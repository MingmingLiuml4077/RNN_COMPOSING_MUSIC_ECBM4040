{
 "cells": [
  {
   "cell_type": "code",
   "execution_count": null,
   "metadata": {
    "collapsed": true
   },
   "outputs": [],
   "source": [
    "import model_tb as model\n",
    "import data\n",
    "import tensorflow as tf\n",
    "import os\n",
    "import pickle\n",
    "import sys"
   ]
  },
  {
   "cell_type": "code",
   "execution_count": null,
   "metadata": {
    "collapsed": true
   },
   "outputs": [],
   "source": [
    "cache_name = 'cache'\n",
    "model_name = None\n",
    "\n",
    "if not os.path.exists(cache_name):\n",
    "    composers = input(\"Enter composers separated by spaces (empty input means all composers): \").split()\n",
    "    if len(composers)==0: composers = [None]\n",
    "    all_pieces = {}\n",
    "    for c in composers:\n",
    "        all_pieces.update(data.getpices(path=\"../midis\", composer=c))\n",
    "\n",
    "    cache = data.initialize_cache(all_pieces, save_loc=cache_name)\n",
    "else:\n",
    "    with open(cache_name, 'rb') as f:\n",
    "        cache = pickle.load(f)\n"
   ]
  },
  {
   "cell_type": "code",
   "execution_count": null,
   "metadata": {
    "collapsed": true
   },
   "outputs": [],
   "source": [
    "# Building model\n",
    "music_model = model.biaxial_model(t_layer_sizes=[300,300],n_layer_sizes=[100,50],trainer = tf.train.RMSPropOptimizer(0.005))"
   ]
  },
  {
   "cell_type": "code",
   "execution_count": null,
   "metadata": {
    "collapsed": true
   },
   "outputs": [],
   "source": [
    "# Training model\n",
    "music_model.train(cache, batch_size=5, max_epoch=10000,\n",
    "                  predict_freq=100, pre_trained_model=model_name)\n"
   ]
  },
  {
   "cell_type": "code",
   "execution_count": null,
   "metadata": {
    "collapsed": true
   },
   "outputs": [],
   "source": [
    "# Predict model\n",
    "model_name = 'all_biaxial_BETA'\n",
    "music_model.predict(cache, step=320,conservativity=1,n=20, pre_trained_model=model_name)"
   ]
  }
 ],
 "metadata": {
  "kernelspec": {
   "display_name": "Python 3",
   "language": "python",
   "name": "python3"
  },
  "language_info": {
   "codemirror_mode": {
    "name": "ipython",
    "version": 3
   },
   "file_extension": ".py",
   "mimetype": "text/x-python",
   "name": "python",
   "nbconvert_exporter": "python",
   "pygments_lexer": "ipython3",
   "version": "3.6.1"
  }
 },
 "nbformat": 4,
 "nbformat_minor": 2
}
