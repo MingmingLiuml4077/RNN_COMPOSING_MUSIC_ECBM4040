{
 "cells": [
  {
   "cell_type": "code",
   "execution_count": null,
   "metadata": {
    "collapsed": true
   },
   "outputs": [],
   "source": [
    "import model\n",
    "import data"
   ]
  },
  {
   "cell_type": "code",
   "execution_count": null,
   "metadata": {
    "collapsed": true
   },
   "outputs": [],
   "source": [
    "# Load data\n",
    "pieces = data.getpices(mode='all')"
   ]
  },
  {
   "cell_type": "code",
   "execution_count": null,
   "metadata": {
    "collapsed": true
   },
   "outputs": [],
   "source": [
    "# Built model\n",
    "music_model = model.biaxial_model(t_layer_sizes=[300,300], n_layer_sizes=[100,50],trainer = tf.train.AdamOptimizer())"
   ]
  },
  {
   "cell_type": "code",
   "execution_count": null,
   "metadata": {
    "collapsed": true
   },
   "outputs": [],
   "source": [
    "# traini model, it will also generate new songs while training\n",
    "music_model.train(pieces,\n",
    "                  batch_size=10, \n",
    "                  predict_freq=200,\n",
    "                  save_freq=500,\n",
    "                  show_freq=10,\n",
    "                  max_epoch=10000, \n",
    "                  saveto='NewSong', \n",
    "                  step=319, \n",
    "                  conservativity=1,\n",
    "                  pre_trained_model=None)"
   ]
  },
  {
   "cell_type": "code",
   "execution_count": null,
   "metadata": {
    "collapsed": true
   },
   "outputs": [],
   "source": [
    "# predict form a trained model \n",
    "music_model.predict(pieces,'biaxial_rnn_1513531465',step=320,conservativity=1,n=20)"
   ]
  }
 ],
 "metadata": {
  "kernelspec": {
   "display_name": "Python 3",
   "language": "python",
   "name": "python3"
  },
  "language_info": {
   "codemirror_mode": {
    "name": "ipython",
    "version": 3
   },
   "file_extension": ".py",
   "mimetype": "text/x-python",
   "name": "python",
   "nbconvert_exporter": "python",
   "pygments_lexer": "ipython3",
   "version": "3.6.1"
  }
 },
 "nbformat": 4,
 "nbformat_minor": 2
}
